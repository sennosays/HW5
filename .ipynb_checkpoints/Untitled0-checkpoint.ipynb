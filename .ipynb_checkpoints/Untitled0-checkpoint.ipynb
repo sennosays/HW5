{
 "metadata": {
  "language": "Julia",
  "name": ""
 },
 "nbformat": 3,
 "nbformat_minor": 0,
 "worksheets": [
  {
   "cells": [
    {
     "cell_type": "code",
     "collapsed": false,
     "input": [
      "using PyPlot\n",
      "include(\"lookup_table.jl\")"
     ],
     "language": "python",
     "metadata": {},
     "outputs": [
      {
       "ename": "LoadError",
       "evalue": "invalid redefinition of constant lookup_table_type\nat /Users/nicholassenno/Desktop/HPC/HW5/lookup_table.jl:2\nat In[4]:2",
       "output_type": "pyerr",
       "traceback": [
        "invalid redefinition of constant lookup_table_type\nat /Users/nicholassenno/Desktop/HPC/HW5/lookup_table.jl:2\nat In[4]:2",
        " in include at boot.jl:238",
        " in include_from_node1 at loading.jl:114"
       ]
      }
     ],
     "prompt_number": 4
    },
    {
     "cell_type": "code",
     "collapsed": false,
     "input": [
      "include(\"Q2.jl\")"
     ],
     "language": "python",
     "metadata": {},
     "outputs": [
      {
       "ename": "LoadError",
       "evalue": "invalid redefinition of constant lookup_table_type\nat /Users/nicholassenno/Desktop/HPC/HW5/lookup_table.jl:2\nat /Users/nicholassenno/Desktop/HPC/HW5/Q2.jl:1\nat In[5]:1",
       "output_type": "pyerr",
       "traceback": [
        "invalid redefinition of constant lookup_table_type\nat /Users/nicholassenno/Desktop/HPC/HW5/lookup_table.jl:2\nat /Users/nicholassenno/Desktop/HPC/HW5/Q2.jl:1\nat In[5]:1",
        " in include at boot.jl:238",
        " in include_from_node1 at loading.jl:114",
        " in include at boot.jl:238",
        " in include_from_node1 at loading.jl:114"
       ]
      }
     ],
     "prompt_number": 5
    },
    {
     "cell_type": "code",
     "collapsed": false,
     "input": [],
     "language": "python",
     "metadata": {},
     "outputs": []
    }
   ],
   "metadata": {}
  }
 ]
}